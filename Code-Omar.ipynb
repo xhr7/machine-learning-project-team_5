{
 "cells": [
  {
   "cell_type": "code",
   "execution_count": 11,
   "id": "89450b89",
   "metadata": {},
   "outputs": [],
   "source": [
    "import pandas as pd\n",
    "import numpy as np\n",
    "from sklearn.model_selection import train_test_split\n",
    "from sklearn.preprocessing import QuantileTransformer\n",
    "from sklearn.utils.class_weight import compute_class_weight\n",
    "from imblearn.over_sampling import SMOTE\n",
    "import tensorflow as tf\n",
    "from tensorflow.keras.models import Sequential\n",
    "from tensorflow.keras.layers import Dense, Dropout\n",
    "from tensorflow.keras.callbacks import EarlyStopping\n",
    "from tensorflow.keras.utils import to_categorical\n",
    "from tensorflow.keras.optimizers import Adam"
   ]
  },
  {
   "cell_type": "code",
   "execution_count": 5,
   "id": "6c7b665c",
   "metadata": {},
   "outputs": [
    {
     "name": "stderr",
     "output_type": "stream",
     "text": [
      "c:\\Python312\\Lib\\site-packages\\tqdm\\auto.py:21: TqdmWarning: IProgress not found. Please update jupyter and ipywidgets. See https://ipywidgets.readthedocs.io/en/stable/user_install.html\n",
      "  from .autonotebook import tqdm as notebook_tqdm\n",
      "c:\\Python312\\Lib\\site-packages\\huggingface_hub\\file_download.py:144: UserWarning: `huggingface_hub` cache-system uses symlinks by default to efficiently store duplicated files but your machine does not support them in C:\\Users\\omar2\\.cache\\huggingface\\hub\\datasets--agrawalchaitany--cyberbert_dataset. Caching files will still work but in a degraded version that might require more space on your disk. This warning can be disabled by setting the `HF_HUB_DISABLE_SYMLINKS_WARNING` environment variable. For more details, see https://huggingface.co/docs/huggingface_hub/how-to-cache#limitations.\n",
      "To support symlinks on Windows, you either need to activate Developer Mode or to run Python as an administrator. In order to activate developer mode, see this article: https://docs.microsoft.com/en-us/windows/apps/get-started/enable-your-device-for-development\n",
      "  warnings.warn(message)\n",
      "Generating train split: 100%|██████████| 2522362/2522362 [00:26<00:00, 95065.83 examples/s] \n"
     ]
    }
   ],
   "source": [
    "import pandas as pd\n",
    "from datasets import load_dataset\n",
    "\n",
    "ds = load_dataset(\"agrawalchaitany/cyberbert_dataset\")\n",
    "df = ds['train'].to_pandas()"
   ]
  },
  {
   "cell_type": "code",
   "execution_count": 6,
   "id": "37ecea54",
   "metadata": {},
   "outputs": [
    {
     "name": "stdout",
     "output_type": "stream",
     "text": [
      "<class 'pandas.core.frame.DataFrame'>\n",
      "RangeIndex: 2522362 entries, 0 to 2522361\n",
      "Data columns (total 79 columns):\n",
      " #   Column                       Dtype  \n",
      "---  ------                       -----  \n",
      " 0   Destination Port             float64\n",
      " 1   Flow Duration                float64\n",
      " 2   Total Fwd Packets            float64\n",
      " 3   Total Backward Packets       float64\n",
      " 4   Total Length of Fwd Packets  float64\n",
      " 5   Total Length of Bwd Packets  float64\n",
      " 6   Fwd Packet Length Max        float64\n",
      " 7   Fwd Packet Length Min        float64\n",
      " 8   Fwd Packet Length Mean       float64\n",
      " 9   Fwd Packet Length Std        float64\n",
      " 10  Bwd Packet Length Max        float64\n",
      " 11  Bwd Packet Length Min        float64\n",
      " 12  Bwd Packet Length Mean       float64\n",
      " 13  Bwd Packet Length Std        float64\n",
      " 14  Flow Bytes/s                 float64\n",
      " 15  Flow Packets/s               float64\n",
      " 16  Flow IAT Mean                float64\n",
      " 17  Flow IAT Std                 float64\n",
      " 18  Flow IAT Max                 float64\n",
      " 19  Flow IAT Min                 float64\n",
      " 20  Fwd IAT Total                float64\n",
      " 21  Fwd IAT Mean                 float64\n",
      " 22  Fwd IAT Std                  float64\n",
      " 23  Fwd IAT Max                  float64\n",
      " 24  Fwd IAT Min                  float64\n",
      " 25  Bwd IAT Total                float64\n",
      " 26  Bwd IAT Mean                 float64\n",
      " 27  Bwd IAT Std                  float64\n",
      " 28  Bwd IAT Max                  float64\n",
      " 29  Bwd IAT Min                  float64\n",
      " 30  Fwd PSH Flags                float64\n",
      " 31  Bwd PSH Flags                float64\n",
      " 32  Fwd URG Flags                float64\n",
      " 33  Bwd URG Flags                float64\n",
      " 34  Fwd Header Length            float64\n",
      " 35  Bwd Header Length            float64\n",
      " 36  Fwd Packets/s                float64\n",
      " 37  Bwd Packets/s                float64\n",
      " 38  Min Packet Length            float64\n",
      " 39  Max Packet Length            float64\n",
      " 40  Packet Length Mean           float64\n",
      " 41  Packet Length Std            float64\n",
      " 42  Packet Length Variance       float64\n",
      " 43  FIN Flag Count               float64\n",
      " 44  SYN Flag Count               float64\n",
      " 45  RST Flag Count               float64\n",
      " 46  PSH Flag Count               float64\n",
      " 47  ACK Flag Count               float64\n",
      " 48  URG Flag Count               float64\n",
      " 49  CWE Flag Count               float64\n",
      " 50  ECE Flag Count               float64\n",
      " 51  Down/Up Ratio                float64\n",
      " 52  Average Packet Size          float64\n",
      " 53  Avg Fwd Segment Size         float64\n",
      " 54  Avg Bwd Segment Size         float64\n",
      " 55  Fwd Header Length.1          float64\n",
      " 56  Fwd Avg Bytes/Bulk           float64\n",
      " 57  Fwd Avg Packets/Bulk         float64\n",
      " 58  Fwd Avg Bulk Rate            float64\n",
      " 59  Bwd Avg Bytes/Bulk           float64\n",
      " 60  Bwd Avg Packets/Bulk         float64\n",
      " 61  Bwd Avg Bulk Rate            float64\n",
      " 62  Subflow Fwd Packets          float64\n",
      " 63  Subflow Fwd Bytes            float64\n",
      " 64  Subflow Bwd Packets          float64\n",
      " 65  Subflow Bwd Bytes            float64\n",
      " 66  Init_Win_bytes_forward       float64\n",
      " 67  Init_Win_bytes_backward      float64\n",
      " 68  act_data_pkt_fwd             float64\n",
      " 69  min_seg_size_forward         float64\n",
      " 70  Active Mean                  float64\n",
      " 71  Active Std                   float64\n",
      " 72  Active Max                   float64\n",
      " 73  Active Min                   float64\n",
      " 74  Idle Mean                    float64\n",
      " 75  Idle Std                     float64\n",
      " 76  Idle Max                     float64\n",
      " 77  Idle Min                     float64\n",
      " 78  Label                        object \n",
      "dtypes: float64(78), object(1)\n",
      "memory usage: 1.5+ GB\n"
     ]
    }
   ],
   "source": [
    "df.info()"
   ]
  },
  {
   "cell_type": "code",
   "execution_count": 8,
   "id": "8493c063",
   "metadata": {},
   "outputs": [
    {
     "data": {
      "text/plain": [
       "Index(['Destination Port', 'Flow Duration', 'Total Fwd Packets',\n",
       "       'Total Backward Packets', 'Total Length of Fwd Packets',\n",
       "       'Total Length of Bwd Packets', 'Fwd Packet Length Max',\n",
       "       'Fwd Packet Length Min', 'Fwd Packet Length Mean',\n",
       "       'Fwd Packet Length Std', 'Bwd Packet Length Max',\n",
       "       'Bwd Packet Length Min', 'Bwd Packet Length Mean',\n",
       "       'Bwd Packet Length Std', 'Flow Bytes/s', 'Flow Packets/s',\n",
       "       'Flow IAT Mean', 'Flow IAT Std', 'Flow IAT Max', 'Flow IAT Min',\n",
       "       'Fwd IAT Total', 'Fwd IAT Mean', 'Fwd IAT Std', 'Fwd IAT Max',\n",
       "       'Fwd IAT Min', 'Bwd IAT Total', 'Bwd IAT Mean', 'Bwd IAT Std',\n",
       "       'Bwd IAT Max', 'Bwd IAT Min', 'Fwd PSH Flags', 'Bwd PSH Flags',\n",
       "       'Fwd URG Flags', 'Bwd URG Flags', 'Fwd Header Length',\n",
       "       'Bwd Header Length', 'Fwd Packets/s', 'Bwd Packets/s',\n",
       "       'Min Packet Length', 'Max Packet Length', 'Packet Length Mean',\n",
       "       'Packet Length Std', 'Packet Length Variance', 'FIN Flag Count',\n",
       "       'SYN Flag Count', 'RST Flag Count', 'PSH Flag Count', 'ACK Flag Count',\n",
       "       'URG Flag Count', 'CWE Flag Count', 'ECE Flag Count', 'Down/Up Ratio',\n",
       "       'Average Packet Size', 'Avg Fwd Segment Size', 'Avg Bwd Segment Size',\n",
       "       'Fwd Header Length.1', 'Fwd Avg Bytes/Bulk', 'Fwd Avg Packets/Bulk',\n",
       "       'Fwd Avg Bulk Rate', 'Bwd Avg Bytes/Bulk', 'Bwd Avg Packets/Bulk',\n",
       "       'Bwd Avg Bulk Rate', 'Subflow Fwd Packets', 'Subflow Fwd Bytes',\n",
       "       'Subflow Bwd Packets', 'Subflow Bwd Bytes', 'Init_Win_bytes_forward',\n",
       "       'Init_Win_bytes_backward', 'act_data_pkt_fwd', 'min_seg_size_forward',\n",
       "       'Active Mean', 'Active Std', 'Active Max', 'Active Min', 'Idle Mean',\n",
       "       'Idle Std', 'Idle Max', 'Idle Min', 'Label'],\n",
       "      dtype='object')"
      ]
     },
     "execution_count": 8,
     "metadata": {},
     "output_type": "execute_result"
    }
   ],
   "source": [
    "df.columns"
   ]
  },
  {
   "cell_type": "code",
   "execution_count": 9,
   "id": "89d46464",
   "metadata": {},
   "outputs": [
    {
     "data": {
      "text/html": [
       "<div>\n",
       "<style scoped>\n",
       "    .dataframe tbody tr th:only-of-type {\n",
       "        vertical-align: middle;\n",
       "    }\n",
       "\n",
       "    .dataframe tbody tr th {\n",
       "        vertical-align: top;\n",
       "    }\n",
       "\n",
       "    .dataframe thead th {\n",
       "        text-align: right;\n",
       "    }\n",
       "</style>\n",
       "<table border=\"1\" class=\"dataframe\">\n",
       "  <thead>\n",
       "    <tr style=\"text-align: right;\">\n",
       "      <th></th>\n",
       "      <th>Destination Port</th>\n",
       "      <th>Flow Duration</th>\n",
       "      <th>Total Fwd Packets</th>\n",
       "      <th>Total Backward Packets</th>\n",
       "      <th>Total Length of Fwd Packets</th>\n",
       "      <th>Total Length of Bwd Packets</th>\n",
       "      <th>Fwd Packet Length Max</th>\n",
       "      <th>Fwd Packet Length Min</th>\n",
       "      <th>Fwd Packet Length Mean</th>\n",
       "      <th>Fwd Packet Length Std</th>\n",
       "      <th>...</th>\n",
       "      <th>min_seg_size_forward</th>\n",
       "      <th>Active Mean</th>\n",
       "      <th>Active Std</th>\n",
       "      <th>Active Max</th>\n",
       "      <th>Active Min</th>\n",
       "      <th>Idle Mean</th>\n",
       "      <th>Idle Std</th>\n",
       "      <th>Idle Max</th>\n",
       "      <th>Idle Min</th>\n",
       "      <th>Label</th>\n",
       "    </tr>\n",
       "  </thead>\n",
       "  <tbody>\n",
       "    <tr>\n",
       "      <th>0</th>\n",
       "      <td>54865.0</td>\n",
       "      <td>3.0</td>\n",
       "      <td>2.0</td>\n",
       "      <td>0.0</td>\n",
       "      <td>12.0</td>\n",
       "      <td>0.0</td>\n",
       "      <td>6.0</td>\n",
       "      <td>6.0</td>\n",
       "      <td>6.0</td>\n",
       "      <td>0.0</td>\n",
       "      <td>...</td>\n",
       "      <td>20.0</td>\n",
       "      <td>0.0</td>\n",
       "      <td>0.0</td>\n",
       "      <td>0.0</td>\n",
       "      <td>0.0</td>\n",
       "      <td>0.0</td>\n",
       "      <td>0.0</td>\n",
       "      <td>0.0</td>\n",
       "      <td>0.0</td>\n",
       "      <td>BENIGN</td>\n",
       "    </tr>\n",
       "    <tr>\n",
       "      <th>1</th>\n",
       "      <td>55054.0</td>\n",
       "      <td>109.0</td>\n",
       "      <td>1.0</td>\n",
       "      <td>1.0</td>\n",
       "      <td>6.0</td>\n",
       "      <td>6.0</td>\n",
       "      <td>6.0</td>\n",
       "      <td>6.0</td>\n",
       "      <td>6.0</td>\n",
       "      <td>0.0</td>\n",
       "      <td>...</td>\n",
       "      <td>20.0</td>\n",
       "      <td>0.0</td>\n",
       "      <td>0.0</td>\n",
       "      <td>0.0</td>\n",
       "      <td>0.0</td>\n",
       "      <td>0.0</td>\n",
       "      <td>0.0</td>\n",
       "      <td>0.0</td>\n",
       "      <td>0.0</td>\n",
       "      <td>BENIGN</td>\n",
       "    </tr>\n",
       "    <tr>\n",
       "      <th>2</th>\n",
       "      <td>55055.0</td>\n",
       "      <td>52.0</td>\n",
       "      <td>1.0</td>\n",
       "      <td>1.0</td>\n",
       "      <td>6.0</td>\n",
       "      <td>6.0</td>\n",
       "      <td>6.0</td>\n",
       "      <td>6.0</td>\n",
       "      <td>6.0</td>\n",
       "      <td>0.0</td>\n",
       "      <td>...</td>\n",
       "      <td>20.0</td>\n",
       "      <td>0.0</td>\n",
       "      <td>0.0</td>\n",
       "      <td>0.0</td>\n",
       "      <td>0.0</td>\n",
       "      <td>0.0</td>\n",
       "      <td>0.0</td>\n",
       "      <td>0.0</td>\n",
       "      <td>0.0</td>\n",
       "      <td>BENIGN</td>\n",
       "    </tr>\n",
       "    <tr>\n",
       "      <th>3</th>\n",
       "      <td>46236.0</td>\n",
       "      <td>34.0</td>\n",
       "      <td>1.0</td>\n",
       "      <td>1.0</td>\n",
       "      <td>6.0</td>\n",
       "      <td>6.0</td>\n",
       "      <td>6.0</td>\n",
       "      <td>6.0</td>\n",
       "      <td>6.0</td>\n",
       "      <td>0.0</td>\n",
       "      <td>...</td>\n",
       "      <td>20.0</td>\n",
       "      <td>0.0</td>\n",
       "      <td>0.0</td>\n",
       "      <td>0.0</td>\n",
       "      <td>0.0</td>\n",
       "      <td>0.0</td>\n",
       "      <td>0.0</td>\n",
       "      <td>0.0</td>\n",
       "      <td>0.0</td>\n",
       "      <td>BENIGN</td>\n",
       "    </tr>\n",
       "    <tr>\n",
       "      <th>4</th>\n",
       "      <td>54863.0</td>\n",
       "      <td>3.0</td>\n",
       "      <td>2.0</td>\n",
       "      <td>0.0</td>\n",
       "      <td>12.0</td>\n",
       "      <td>0.0</td>\n",
       "      <td>6.0</td>\n",
       "      <td>6.0</td>\n",
       "      <td>6.0</td>\n",
       "      <td>0.0</td>\n",
       "      <td>...</td>\n",
       "      <td>20.0</td>\n",
       "      <td>0.0</td>\n",
       "      <td>0.0</td>\n",
       "      <td>0.0</td>\n",
       "      <td>0.0</td>\n",
       "      <td>0.0</td>\n",
       "      <td>0.0</td>\n",
       "      <td>0.0</td>\n",
       "      <td>0.0</td>\n",
       "      <td>BENIGN</td>\n",
       "    </tr>\n",
       "  </tbody>\n",
       "</table>\n",
       "<p>5 rows × 79 columns</p>\n",
       "</div>"
      ],
      "text/plain": [
       "   Destination Port  Flow Duration  Total Fwd Packets  Total Backward Packets  \\\n",
       "0           54865.0            3.0                2.0                     0.0   \n",
       "1           55054.0          109.0                1.0                     1.0   \n",
       "2           55055.0           52.0                1.0                     1.0   \n",
       "3           46236.0           34.0                1.0                     1.0   \n",
       "4           54863.0            3.0                2.0                     0.0   \n",
       "\n",
       "   Total Length of Fwd Packets  Total Length of Bwd Packets  \\\n",
       "0                         12.0                          0.0   \n",
       "1                          6.0                          6.0   \n",
       "2                          6.0                          6.0   \n",
       "3                          6.0                          6.0   \n",
       "4                         12.0                          0.0   \n",
       "\n",
       "   Fwd Packet Length Max  Fwd Packet Length Min  Fwd Packet Length Mean  \\\n",
       "0                    6.0                    6.0                     6.0   \n",
       "1                    6.0                    6.0                     6.0   \n",
       "2                    6.0                    6.0                     6.0   \n",
       "3                    6.0                    6.0                     6.0   \n",
       "4                    6.0                    6.0                     6.0   \n",
       "\n",
       "   Fwd Packet Length Std  ...  min_seg_size_forward  Active Mean  Active Std  \\\n",
       "0                    0.0  ...                  20.0          0.0         0.0   \n",
       "1                    0.0  ...                  20.0          0.0         0.0   \n",
       "2                    0.0  ...                  20.0          0.0         0.0   \n",
       "3                    0.0  ...                  20.0          0.0         0.0   \n",
       "4                    0.0  ...                  20.0          0.0         0.0   \n",
       "\n",
       "   Active Max  Active Min  Idle Mean  Idle Std  Idle Max  Idle Min   Label  \n",
       "0         0.0         0.0        0.0       0.0       0.0       0.0  BENIGN  \n",
       "1         0.0         0.0        0.0       0.0       0.0       0.0  BENIGN  \n",
       "2         0.0         0.0        0.0       0.0       0.0       0.0  BENIGN  \n",
       "3         0.0         0.0        0.0       0.0       0.0       0.0  BENIGN  \n",
       "4         0.0         0.0        0.0       0.0       0.0       0.0  BENIGN  \n",
       "\n",
       "[5 rows x 79 columns]"
      ]
     },
     "execution_count": 9,
     "metadata": {},
     "output_type": "execute_result"
    }
   ],
   "source": [
    "df.head()"
   ]
  },
  {
   "cell_type": "code",
   "execution_count": null,
   "id": "a687dac7",
   "metadata": {},
   "outputs": [
    {
     "name": "stdout",
     "output_type": "stream",
     "text": [
      "Shape after drop: (2522362, 69)\n"
     ]
    }
   ],
   "source": [
    "# Drop ID, timestamp, duplicate and low-variance features\n",
    "drop_cols = [\n",
    "    'Flow ID','Source IP','Source Port','Destination IP','Timestamp',\n",
    "    'Destination Port',  \n",
    "    'Fwd Header Length.1',\n",
    "    'Average Packet Size', 'Packet Length Mean',\n",
    "    'Fwd Packet Length Mean','Avg Fwd Segment Size',\n",
    "    'Bwd Packet Length Mean','Avg Bwd Segment Size',\n",
    "    'Flow Bytes/s','Flow Packets/s'\n",
    "]\n",
    "for col in drop_cols:\n",
    "    if col in df.columns:\n",
    "        df.drop(col, axis=1, inplace=True)\n",
    "print('Shape after drop:', df.shape)"
   ]
  },
  {
   "cell_type": "code",
   "execution_count": 13,
   "id": "3ff66e18",
   "metadata": {},
   "outputs": [
    {
     "name": "stdout",
     "output_type": "stream",
     "text": [
      "Binary train class distribution: [1677187  340702]\n"
     ]
    }
   ],
   "source": [
    "# Prepare binary classification: BENIGN vs Attack\n",
    "df['is_attack'] = np.where(df['Label'] == 'BENIGN', 0, 1)\n",
    "X = df.drop(['Label','is_attack'], axis=1)\n",
    "y = df['is_attack']\n",
    "X_train, X_val, y_train, y_val = train_test_split(\n",
    "    X, y, test_size=0.2, stratify=y, random_state=42\n",
    ")\n",
    "print('Binary train class distribution:', np.bincount(y_train))"
   ]
  },
  {
   "cell_type": "code",
   "execution_count": 14,
   "id": "535e1472",
   "metadata": {},
   "outputs": [],
   "source": [
    "# Scale features using QuantileTransformer\n",
    "scaler = QuantileTransformer(output_distribution='normal')\n",
    "X_train_scaled = scaler.fit_transform(X_train)\n",
    "X_val_scaled = scaler.transform(X_val)"
   ]
  },
  {
   "cell_type": "code",
   "execution_count": 15,
   "id": "6d661a4b",
   "metadata": {},
   "outputs": [
    {
     "name": "stdout",
     "output_type": "stream",
     "text": [
      "Class weights: {0: np.float64(0.6015694731714472), 1: np.float64(2.96136946657196)}\n"
     ]
    }
   ],
   "source": [
    "# Compute class weights for binary classification\n",
    "class_weights = compute_class_weight(\n",
    "    class_weight='balanced', classes=np.unique(y_train), y=y_train\n",
    ")\n",
    "class_weights = dict(enumerate(class_weights))\n",
    "print('Class weights:', class_weights)"
   ]
  },
  {
   "cell_type": "code",
   "execution_count": 16,
   "id": "132022b6",
   "metadata": {},
   "outputs": [
    {
     "name": "stderr",
     "output_type": "stream",
     "text": [
      "c:\\Python312\\Lib\\site-packages\\keras\\src\\layers\\core\\dense.py:87: UserWarning: Do not pass an `input_shape`/`input_dim` argument to a layer. When using Sequential models, prefer using an `Input(shape)` object as the first layer in the model instead.\n",
      "  super().__init__(activity_regularizer=activity_regularizer, **kwargs)\n"
     ]
    },
    {
     "name": "stdout",
     "output_type": "stream",
     "text": [
      "Epoch 1/30\n",
      "\u001b[1m1971/1971\u001b[0m \u001b[32m━━━━━━━━━━━━━━━━━━━━\u001b[0m\u001b[37m\u001b[0m \u001b[1m10s\u001b[0m 3ms/step - Precision: 0.7702 - Recall: 0.9284 - loss: 0.1696 - val_Precision: 0.9685 - val_Recall: 0.9812 - val_loss: 0.0289\n",
      "Epoch 2/30\n",
      "\u001b[1m  14/1971\u001b[0m \u001b[37m━━━━━━━━━━━━━━━━━━━━\u001b[0m \u001b[1m7s\u001b[0m 4ms/step - Precision: 0.9583 - Recall: 0.9804 - loss: 0.0419    "
     ]
    },
    {
     "name": "stderr",
     "output_type": "stream",
     "text": [
      "c:\\Python312\\Lib\\site-packages\\keras\\src\\callbacks\\early_stopping.py:153: UserWarning: Early stopping conditioned on metric `val_recall` which is not available. Available metrics are: Precision,Recall,loss,val_Precision,val_Recall,val_loss\n",
      "  current = self.get_monitor_value(logs)\n"
     ]
    },
    {
     "name": "stdout",
     "output_type": "stream",
     "text": [
      "\u001b[1m1971/1971\u001b[0m \u001b[32m━━━━━━━━━━━━━━━━━━━━\u001b[0m\u001b[37m\u001b[0m \u001b[1m6s\u001b[0m 3ms/step - Precision: 0.9472 - Recall: 0.9841 - loss: 0.0430 - val_Precision: 0.9591 - val_Recall: 0.9879 - val_loss: 0.0312\n",
      "Epoch 3/30\n",
      "\u001b[1m1971/1971\u001b[0m \u001b[32m━━━━━━━━━━━━━━━━━━━━\u001b[0m\u001b[37m\u001b[0m \u001b[1m5s\u001b[0m 3ms/step - Precision: 0.9556 - Recall: 0.9861 - loss: 0.0361 - val_Precision: 0.9795 - val_Recall: 0.9866 - val_loss: 0.0182\n",
      "Epoch 4/30\n",
      "\u001b[1m1971/1971\u001b[0m \u001b[32m━━━━━━━━━━━━━━━━━━━━\u001b[0m\u001b[37m\u001b[0m \u001b[1m6s\u001b[0m 3ms/step - Precision: 0.9622 - Recall: 0.9882 - loss: 0.0317 - val_Precision: 0.9802 - val_Recall: 0.9920 - val_loss: 0.0188\n",
      "Epoch 5/30\n",
      "\u001b[1m1971/1971\u001b[0m \u001b[32m━━━━━━━━━━━━━━━━━━━━\u001b[0m\u001b[37m\u001b[0m \u001b[1m5s\u001b[0m 3ms/step - Precision: 0.9634 - Recall: 0.9889 - loss: 0.0301 - val_Precision: 0.9848 - val_Recall: 0.9903 - val_loss: 0.0182\n",
      "Epoch 6/30\n",
      "\u001b[1m1971/1971\u001b[0m \u001b[32m━━━━━━━━━━━━━━━━━━━━\u001b[0m\u001b[37m\u001b[0m \u001b[1m6s\u001b[0m 3ms/step - Precision: 0.9679 - Recall: 0.9894 - loss: 0.0276 - val_Precision: 0.9802 - val_Recall: 0.9911 - val_loss: 0.0198\n",
      "Epoch 7/30\n",
      "\u001b[1m1971/1971\u001b[0m \u001b[32m━━━━━━━━━━━━━━━━━━━━\u001b[0m\u001b[37m\u001b[0m \u001b[1m5s\u001b[0m 3ms/step - Precision: 0.9678 - Recall: 0.9895 - loss: 0.0275 - val_Precision: 0.9837 - val_Recall: 0.9904 - val_loss: 0.0167\n",
      "Epoch 8/30\n",
      "\u001b[1m1971/1971\u001b[0m \u001b[32m━━━━━━━━━━━━━━━━━━━━\u001b[0m\u001b[37m\u001b[0m \u001b[1m6s\u001b[0m 3ms/step - Precision: 0.9708 - Recall: 0.9897 - loss: 0.0264 - val_Precision: 0.9801 - val_Recall: 0.9924 - val_loss: 0.0163\n",
      "Epoch 9/30\n",
      "\u001b[1m1971/1971\u001b[0m \u001b[32m━━━━━━━━━━━━━━━━━━━━\u001b[0m\u001b[37m\u001b[0m \u001b[1m5s\u001b[0m 3ms/step - Precision: 0.9704 - Recall: 0.9897 - loss: 0.0265 - val_Precision: 0.9774 - val_Recall: 0.9923 - val_loss: 0.0184\n",
      "Epoch 10/30\n",
      "\u001b[1m1971/1971\u001b[0m \u001b[32m━━━━━━━━━━━━━━━━━━━━\u001b[0m\u001b[37m\u001b[0m \u001b[1m5s\u001b[0m 3ms/step - Precision: 0.9705 - Recall: 0.9896 - loss: 0.0258 - val_Precision: 0.9796 - val_Recall: 0.9918 - val_loss: 0.0170\n",
      "Epoch 11/30\n",
      "\u001b[1m1971/1971\u001b[0m \u001b[32m━━━━━━━━━━━━━━━━━━━━\u001b[0m\u001b[37m\u001b[0m \u001b[1m6s\u001b[0m 3ms/step - Precision: 0.9725 - Recall: 0.9904 - loss: 0.0251 - val_Precision: 0.9839 - val_Recall: 0.9929 - val_loss: 0.0160\n",
      "Epoch 12/30\n",
      "\u001b[1m1971/1971\u001b[0m \u001b[32m━━━━━━━━━━━━━━━━━━━━\u001b[0m\u001b[37m\u001b[0m \u001b[1m6s\u001b[0m 3ms/step - Precision: 0.9725 - Recall: 0.9905 - loss: 0.0247 - val_Precision: 0.9795 - val_Recall: 0.9889 - val_loss: 0.0164\n",
      "Epoch 13/30\n",
      "\u001b[1m1971/1971\u001b[0m \u001b[32m━━━━━━━━━━━━━━━━━━━━\u001b[0m\u001b[37m\u001b[0m \u001b[1m6s\u001b[0m 3ms/step - Precision: 0.9655 - Recall: 0.9913 - loss: 0.0251 - val_Precision: 0.9694 - val_Recall: 0.9927 - val_loss: 0.0201\n",
      "Epoch 14/30\n",
      "\u001b[1m1971/1971\u001b[0m \u001b[32m━━━━━━━━━━━━━━━━━━━━\u001b[0m\u001b[37m\u001b[0m \u001b[1m6s\u001b[0m 3ms/step - Precision: 0.9712 - Recall: 0.9916 - loss: 0.0240 - val_Precision: 0.9846 - val_Recall: 0.9925 - val_loss: 0.0142\n",
      "Epoch 15/30\n",
      "\u001b[1m1971/1971\u001b[0m \u001b[32m━━━━━━━━━━━━━━━━━━━━\u001b[0m\u001b[37m\u001b[0m \u001b[1m6s\u001b[0m 3ms/step - Precision: 0.9721 - Recall: 0.9915 - loss: 0.0241 - val_Precision: 0.9826 - val_Recall: 0.9926 - val_loss: 0.0158\n",
      "Epoch 16/30\n",
      "\u001b[1m1971/1971\u001b[0m \u001b[32m━━━━━━━━━━━━━━━━━━━━\u001b[0m\u001b[37m\u001b[0m \u001b[1m6s\u001b[0m 3ms/step - Precision: 0.9707 - Recall: 0.9919 - loss: 0.0236 - val_Precision: 0.9804 - val_Recall: 0.9928 - val_loss: 0.0156\n",
      "Epoch 17/30\n",
      "\u001b[1m1971/1971\u001b[0m \u001b[32m━━━━━━━━━━━━━━━━━━━━\u001b[0m\u001b[37m\u001b[0m \u001b[1m6s\u001b[0m 3ms/step - Precision: 0.9737 - Recall: 0.9920 - loss: 0.0229 - val_Precision: 0.9730 - val_Recall: 0.9919 - val_loss: 0.0169\n",
      "Epoch 18/30\n",
      "\u001b[1m1971/1971\u001b[0m \u001b[32m━━━━━━━━━━━━━━━━━━━━\u001b[0m\u001b[37m\u001b[0m \u001b[1m6s\u001b[0m 3ms/step - Precision: 0.9675 - Recall: 0.9912 - loss: 0.0245 - val_Precision: 0.9843 - val_Recall: 0.9934 - val_loss: 0.0143\n",
      "Epoch 19/30\n",
      "\u001b[1m1971/1971\u001b[0m \u001b[32m━━━━━━━━━━━━━━━━━━━━\u001b[0m\u001b[37m\u001b[0m \u001b[1m17s\u001b[0m 9ms/step - Precision: 0.9706 - Recall: 0.9918 - loss: 0.0236 - val_Precision: 0.9773 - val_Recall: 0.9936 - val_loss: 0.0164\n",
      "Epoch 20/30\n",
      "\u001b[1m1971/1971\u001b[0m \u001b[32m━━━━━━━━━━━━━━━━━━━━\u001b[0m\u001b[37m\u001b[0m \u001b[1m19s\u001b[0m 10ms/step - Precision: 0.9718 - Recall: 0.9920 - loss: 0.0230 - val_Precision: 0.9649 - val_Recall: 0.9935 - val_loss: 0.0210\n",
      "Epoch 21/30\n",
      "\u001b[1m1971/1971\u001b[0m \u001b[32m━━━━━━━━━━━━━━━━━━━━\u001b[0m\u001b[37m\u001b[0m \u001b[1m6s\u001b[0m 3ms/step - Precision: 0.9671 - Recall: 0.9916 - loss: 0.0237 - val_Precision: 0.9868 - val_Recall: 0.9924 - val_loss: 0.0133\n",
      "Epoch 22/30\n",
      "\u001b[1m1971/1971\u001b[0m \u001b[32m━━━━━━━━━━━━━━━━━━━━\u001b[0m\u001b[37m\u001b[0m \u001b[1m11s\u001b[0m 3ms/step - Precision: 0.9746 - Recall: 0.9921 - loss: 0.0226 - val_Precision: 0.9828 - val_Recall: 0.9936 - val_loss: 0.0158\n",
      "Epoch 23/30\n",
      "\u001b[1m1971/1971\u001b[0m \u001b[32m━━━━━━━━━━━━━━━━━━━━\u001b[0m\u001b[37m\u001b[0m \u001b[1m11s\u001b[0m 6ms/step - Precision: 0.9700 - Recall: 0.9924 - loss: 0.0226 - val_Precision: 0.9829 - val_Recall: 0.9932 - val_loss: 0.0159\n",
      "Epoch 24/30\n",
      "\u001b[1m1971/1971\u001b[0m \u001b[32m━━━━━━━━━━━━━━━━━━━━\u001b[0m\u001b[37m\u001b[0m \u001b[1m22s\u001b[0m 11ms/step - Precision: 0.9767 - Recall: 0.9922 - loss: 0.0220 - val_Precision: 0.9856 - val_Recall: 0.9935 - val_loss: 0.0142\n",
      "Epoch 25/30\n",
      "\u001b[1m1971/1971\u001b[0m \u001b[32m━━━━━━━━━━━━━━━━━━━━\u001b[0m\u001b[37m\u001b[0m \u001b[1m19s\u001b[0m 10ms/step - Precision: 0.9750 - Recall: 0.9923 - loss: 0.0218 - val_Precision: 0.9849 - val_Recall: 0.9893 - val_loss: 0.0151\n",
      "Epoch 26/30\n",
      "\u001b[1m1971/1971\u001b[0m \u001b[32m━━━━━━━━━━━━━━━━━━━━\u001b[0m\u001b[37m\u001b[0m \u001b[1m21s\u001b[0m 11ms/step - Precision: 0.9733 - Recall: 0.9922 - loss: 0.0222 - val_Precision: 0.9836 - val_Recall: 0.9915 - val_loss: 0.0161\n",
      "Epoch 27/30\n",
      "\u001b[1m1971/1971\u001b[0m \u001b[32m━━━━━━━━━━━━━━━━━━━━\u001b[0m\u001b[37m\u001b[0m \u001b[1m21s\u001b[0m 11ms/step - Precision: 0.9714 - Recall: 0.9922 - loss: 0.0224 - val_Precision: 0.9806 - val_Recall: 0.9933 - val_loss: 0.0167\n",
      "Epoch 28/30\n",
      "\u001b[1m1971/1971\u001b[0m \u001b[32m━━━━━━━━━━━━━━━━━━━━\u001b[0m\u001b[37m\u001b[0m \u001b[1m22s\u001b[0m 11ms/step - Precision: 0.9758 - Recall: 0.9923 - loss: 0.0216 - val_Precision: 0.9830 - val_Recall: 0.9933 - val_loss: 0.0152\n",
      "Epoch 29/30\n",
      "\u001b[1m1971/1971\u001b[0m \u001b[32m━━━━━━━━━━━━━━━━━━━━\u001b[0m\u001b[37m\u001b[0m \u001b[1m41s\u001b[0m 11ms/step - Precision: 0.9765 - Recall: 0.9925 - loss: 0.0213 - val_Precision: 0.9825 - val_Recall: 0.9934 - val_loss: 0.0163\n",
      "Epoch 30/30\n",
      "\u001b[1m1971/1971\u001b[0m \u001b[32m━━━━━━━━━━━━━━━━━━━━\u001b[0m\u001b[37m\u001b[0m \u001b[1m24s\u001b[0m 12ms/step - Precision: 0.9759 - Recall: 0.9921 - loss: 0.0215 - val_Precision: 0.9869 - val_Recall: 0.9935 - val_loss: 0.0141\n"
     ]
    }
   ],
   "source": [
    "# Build binary ANN\n",
    "model_bin = Sequential([\n",
    "    Dense(64, activation='relu', input_shape=(X_train_scaled.shape[1],)),\n",
    "    Dropout(0.2),\n",
    "    Dense(32, activation='relu'),\n",
    "    Dropout(0.2),\n",
    "    Dense(16, activation='relu'),\n",
    "    Dropout(0.2),\n",
    "    Dense(1, activation='sigmoid')\n",
    "])\n",
    "model_bin.compile(\n",
    "    optimizer=Adam(learning_rate=0.001),\n",
    "    loss='binary_crossentropy',\n",
    "    metrics=['Recall', 'Precision']\n",
    ")\n",
    "es = EarlyStopping(monitor='val_recall', patience=5, mode='max', restore_best_weights=True)\n",
    "history_bin = model_bin.fit(\n",
    "    X_train_scaled, y_train,\n",
    "    validation_data=(X_val_scaled, y_val),\n",
    "    epochs=30, batch_size=1024,\n",
    "    class_weight=class_weights,\n",
    "    callbacks=[es]\n",
    ")"
   ]
  },
  {
   "cell_type": "code",
   "execution_count": 17,
   "id": "d577328a",
   "metadata": {},
   "outputs": [
    {
     "name": "stdout",
     "output_type": "stream",
     "text": [
      "[0.014066895470023155, 0.9934605956077576, 0.9869256019592285]\n"
     ]
    }
   ],
   "source": [
    "print(model_bin.evaluate(X_val_scaled, y_val, verbose=0))"
   ]
  },
  {
   "cell_type": "code",
   "execution_count": 18,
   "id": "fa30910d",
   "metadata": {},
   "outputs": [
    {
     "name": "stdout",
     "output_type": "stream",
     "text": [
      "Multi-class train distribution:\n",
      "Label\n",
      "DoS Hulk                      138279\n",
      "DDoS                          102413\n",
      "PortScan                       72655\n",
      "DoS GoldenEye                   8229\n",
      "FTP-Patator                     4746\n",
      "DoS slowloris                   4308\n",
      "DoS Slowhttptest                4182\n",
      "SSH-Patator                     2575\n",
      "Bot                             1562\n",
      "Web Attack � Brute Force        1176\n",
      "Web Attack � XSS                 522\n",
      "Infiltration                      29\n",
      "Web Attack � Sql Injection        17\n",
      "Heartbleed                         9\n",
      "Name: count, dtype: int64\n"
     ]
    }
   ],
   "source": [
    "# Prepare multi-class classification\n",
    "df_attacks = df[df['is_attack'] == 1].copy()\n",
    "X2 = df_attacks.drop(['Label','is_attack'], axis=1)\n",
    "y2 = df_attacks['Label']\n",
    "X2_train, X2_val, y2_train, y2_val = train_test_split(\n",
    "    X2, y2, test_size=0.2, stratify=y2, random_state=42\n",
    ")\n",
    "print('Multi-class train distribution:')\n",
    "print(y2_train.value_counts())"
   ]
  },
  {
   "cell_type": "code",
   "execution_count": 19,
   "id": "a00be76e",
   "metadata": {},
   "outputs": [],
   "source": [
    "# Scale features for multi-class\n",
    "X2_train_scaled = scaler.fit_transform(X2_train)\n",
    "X2_val_scaled = scaler.transform(X2_val)"
   ]
  },
  {
   "cell_type": "code",
   "execution_count": null,
   "id": "ae219402",
   "metadata": {},
   "outputs": [
    {
     "name": "stdout",
     "output_type": "stream",
     "text": [
      "After SMOTE: Label\n",
      "DDoS                          138279\n",
      "DoS Hulk                      138279\n",
      "PortScan                      138279\n",
      "DoS slowloris                 138279\n",
      "DoS GoldenEye                 138279\n",
      "FTP-Patator                   138279\n",
      "Web Attack � XSS              138279\n",
      "Web Attack � Brute Force      138279\n",
      "SSH-Patator                   138279\n",
      "DoS Slowhttptest              138279\n",
      "Bot                           138279\n",
      "Web Attack � Sql Injection    138279\n",
      "Infiltration                  138279\n",
      "Heartbleed                    138279\n",
      "Name: count, dtype: int64\n"
     ]
    }
   ],
   "source": [
    "# SMOTE oversampling\n",
    "#smote = SMOTE(random_state=42)\n",
    "#X2_res, y2_res = smote.fit_resample(X2_train_scaled, y2_train)\n",
    "#print('After SMOTE:', pd.Series(y2_res).value_counts())"
   ]
  },
  {
   "cell_type": "code",
   "execution_count": 25,
   "id": "0202da0a",
   "metadata": {},
   "outputs": [],
   "source": [
    "# Encode labels\n",
    "labels = sorted(y2_train.unique())\n",
    "label_to_idx = {label: idx for idx, label in enumerate(labels)}\n",
    "y2_res_idx = np.array([label_to_idx[l] for l in y2_train])\n",
    "y2_val_idx = np.array([label_to_idx[l] for l in y2_val])\n",
    "y2_res_cat = to_categorical(y2_res_idx, num_classes=len(labels))"
   ]
  },
  {
   "cell_type": "code",
   "execution_count": 26,
   "id": "db7bb840",
   "metadata": {},
   "outputs": [
    {
     "name": "stdout",
     "output_type": "stream",
     "text": [
      "Multi-class weights: {0: np.float64(15.579934150356685), 1: np.float64(0.23762468771403183), 2: np.float64(2.957328611357047), 3: np.float64(0.1759909830332671), 4: np.float64(5.819191091070574), 5: np.float64(5.648991908741213), 6: np.float64(5.127656372283426), 7: np.float64(2703.9841269841268), 8: np.float64(839.167487684729), 9: np.float64(0.3349508931643678), 10: np.float64(9.450818307905687), 11: np.float64(20.693756073858115), 12: np.float64(1431.5210084033613), 13: np.float64(46.62041598248495)}\n"
     ]
    }
   ],
   "source": [
    "# Compute class weights for multi-class\n",
    "cw_multi = compute_class_weight(\n",
    "    class_weight='balanced', classes=np.arange(len(labels)), y=y2_res_idx\n",
    ")\n",
    "cw_multi = dict(enumerate(cw_multi))\n",
    "print('Multi-class weights:', cw_multi)"
   ]
  },
  {
   "cell_type": "code",
   "execution_count": 27,
   "id": "4e496965",
   "metadata": {},
   "outputs": [
    {
     "name": "stderr",
     "output_type": "stream",
     "text": [
      "c:\\Python312\\Lib\\site-packages\\keras\\src\\layers\\core\\dense.py:87: UserWarning: Do not pass an `input_shape`/`input_dim` argument to a layer. When using Sequential models, prefer using an `Input(shape)` object as the first layer in the model instead.\n",
      "  super().__init__(activity_regularizer=activity_regularizer, **kwargs)\n"
     ]
    },
    {
     "name": "stdout",
     "output_type": "stream",
     "text": [
      "Epoch 1/30\n",
      "\u001b[1m666/666\u001b[0m \u001b[32m━━━━━━━━━━━━━━━━━━━━\u001b[0m\u001b[37m\u001b[0m \u001b[1m4s\u001b[0m 4ms/step - Precision: 0.7593 - Recall: 0.2992 - loss: 2.3484 - val_Precision: 0.9810 - val_Recall: 0.8316 - val_loss: 0.3800\n",
      "Epoch 2/30\n",
      "\u001b[1m 39/666\u001b[0m \u001b[32m━\u001b[0m\u001b[37m━━━━━━━━━━━━━━━━━━━\u001b[0m \u001b[1m1s\u001b[0m 3ms/step - Precision: 0.8735 - Recall: 0.6676 - loss: 0.9938"
     ]
    },
    {
     "name": "stderr",
     "output_type": "stream",
     "text": [
      "c:\\Python312\\Lib\\site-packages\\keras\\src\\callbacks\\early_stopping.py:153: UserWarning: Early stopping conditioned on metric `val_recall` which is not available. Available metrics are: Precision,Recall,loss,val_Precision,val_Recall,val_loss\n",
      "  current = self.get_monitor_value(logs)\n"
     ]
    },
    {
     "name": "stdout",
     "output_type": "stream",
     "text": [
      "\u001b[1m666/666\u001b[0m \u001b[32m━━━━━━━━━━━━━━━━━━━━\u001b[0m\u001b[37m\u001b[0m \u001b[1m2s\u001b[0m 3ms/step - Precision: 0.8900 - Recall: 0.6632 - loss: 1.3039 - val_Precision: 0.9899 - val_Recall: 0.8727 - val_loss: 0.3446\n",
      "Epoch 3/30\n",
      "\u001b[1m666/666\u001b[0m \u001b[32m━━━━━━━━━━━━━━━━━━━━\u001b[0m\u001b[37m\u001b[0m \u001b[1m2s\u001b[0m 3ms/step - Precision: 0.8831 - Recall: 0.7259 - loss: 1.0813 - val_Precision: 0.9874 - val_Recall: 0.9385 - val_loss: 0.2241\n",
      "Epoch 4/30\n",
      "\u001b[1m666/666\u001b[0m \u001b[32m━━━━━━━━━━━━━━━━━━━━\u001b[0m\u001b[37m\u001b[0m \u001b[1m2s\u001b[0m 3ms/step - Precision: 0.8947 - Recall: 0.7923 - loss: 0.8744 - val_Precision: 0.9840 - val_Recall: 0.9269 - val_loss: 0.2598\n",
      "Epoch 5/30\n",
      "\u001b[1m666/666\u001b[0m \u001b[32m━━━━━━━━━━━━━━━━━━━━\u001b[0m\u001b[37m\u001b[0m \u001b[1m2s\u001b[0m 3ms/step - Precision: 0.9181 - Recall: 0.8334 - loss: 0.7944 - val_Precision: 0.9880 - val_Recall: 0.9332 - val_loss: 0.2113\n",
      "Epoch 6/30\n",
      "\u001b[1m666/666\u001b[0m \u001b[32m━━━━━━━━━━━━━━━━━━━━\u001b[0m\u001b[37m\u001b[0m \u001b[1m2s\u001b[0m 3ms/step - Precision: 0.9368 - Recall: 0.8625 - loss: 0.6567 - val_Precision: 0.9906 - val_Recall: 0.9518 - val_loss: 0.1386\n",
      "Epoch 7/30\n",
      "\u001b[1m666/666\u001b[0m \u001b[32m━━━━━━━━━━━━━━━━━━━━\u001b[0m\u001b[37m\u001b[0m \u001b[1m2s\u001b[0m 3ms/step - Precision: 0.9236 - Recall: 0.8431 - loss: 0.6135 - val_Precision: 0.9835 - val_Recall: 0.9398 - val_loss: 0.1865\n",
      "Epoch 8/30\n",
      "\u001b[1m666/666\u001b[0m \u001b[32m━━━━━━━━━━━━━━━━━━━━\u001b[0m\u001b[37m\u001b[0m \u001b[1m2s\u001b[0m 3ms/step - Precision: 0.9419 - Recall: 0.8819 - loss: 0.5350 - val_Precision: 0.9860 - val_Recall: 0.9495 - val_loss: 0.1181\n",
      "Epoch 9/30\n",
      "\u001b[1m666/666\u001b[0m \u001b[32m━━━━━━━━━━━━━━━━━━━━\u001b[0m\u001b[37m\u001b[0m \u001b[1m2s\u001b[0m 3ms/step - Precision: 0.9163 - Recall: 0.8421 - loss: 0.9366 - val_Precision: 0.9756 - val_Recall: 0.9478 - val_loss: 0.1225\n",
      "Epoch 10/30\n",
      "\u001b[1m666/666\u001b[0m \u001b[32m━━━━━━━━━━━━━━━━━━━━\u001b[0m\u001b[37m\u001b[0m \u001b[1m2s\u001b[0m 3ms/step - Precision: 0.9474 - Recall: 0.8977 - loss: 0.5826 - val_Precision: 0.9730 - val_Recall: 0.9480 - val_loss: 0.1283\n",
      "Epoch 11/30\n",
      "\u001b[1m666/666\u001b[0m \u001b[32m━━━━━━━━━━━━━━━━━━━━\u001b[0m\u001b[37m\u001b[0m \u001b[1m2s\u001b[0m 3ms/step - Precision: 0.9457 - Recall: 0.8893 - loss: 0.6170 - val_Precision: 0.9857 - val_Recall: 0.9501 - val_loss: 0.1096\n",
      "Epoch 12/30\n",
      "\u001b[1m666/666\u001b[0m \u001b[32m━━━━━━━━━━━━━━━━━━━━\u001b[0m\u001b[37m\u001b[0m \u001b[1m2s\u001b[0m 3ms/step - Precision: 0.9494 - Recall: 0.9018 - loss: 0.4758 - val_Precision: 0.9860 - val_Recall: 0.9505 - val_loss: 0.1155\n",
      "Epoch 13/30\n",
      "\u001b[1m666/666\u001b[0m \u001b[32m━━━━━━━━━━━━━━━━━━━━\u001b[0m\u001b[37m\u001b[0m \u001b[1m2s\u001b[0m 3ms/step - Precision: 0.9593 - Recall: 0.9204 - loss: 0.4033 - val_Precision: 0.9724 - val_Recall: 0.9570 - val_loss: 0.1127\n",
      "Epoch 14/30\n",
      "\u001b[1m666/666\u001b[0m \u001b[32m━━━━━━━━━━━━━━━━━━━━\u001b[0m\u001b[37m\u001b[0m \u001b[1m2s\u001b[0m 3ms/step - Precision: 0.9521 - Recall: 0.9176 - loss: 0.5185 - val_Precision: 0.9890 - val_Recall: 0.9739 - val_loss: 0.0782\n",
      "Epoch 15/30\n",
      "\u001b[1m666/666\u001b[0m \u001b[32m━━━━━━━━━━━━━━━━━━━━\u001b[0m\u001b[37m\u001b[0m \u001b[1m2s\u001b[0m 3ms/step - Precision: 0.9567 - Recall: 0.9263 - loss: 0.3710 - val_Precision: 0.9848 - val_Recall: 0.9770 - val_loss: 0.0686\n",
      "Epoch 16/30\n",
      "\u001b[1m666/666\u001b[0m \u001b[32m━━━━━━━━━━━━━━━━━━━━\u001b[0m\u001b[37m\u001b[0m \u001b[1m2s\u001b[0m 3ms/step - Precision: 0.9605 - Recall: 0.9345 - loss: 0.4695 - val_Precision: 0.9894 - val_Recall: 0.9616 - val_loss: 0.0813\n",
      "Epoch 17/30\n",
      "\u001b[1m666/666\u001b[0m \u001b[32m━━━━━━━━━━━━━━━━━━━━\u001b[0m\u001b[37m\u001b[0m \u001b[1m2s\u001b[0m 3ms/step - Precision: 0.9478 - Recall: 0.9112 - loss: 0.4906 - val_Precision: 0.9814 - val_Recall: 0.9620 - val_loss: 0.0925\n",
      "Epoch 18/30\n",
      "\u001b[1m666/666\u001b[0m \u001b[32m━━━━━━━━━━━━━━━━━━━━\u001b[0m\u001b[37m\u001b[0m \u001b[1m3s\u001b[0m 4ms/step - Precision: 0.9500 - Recall: 0.9181 - loss: 0.4989 - val_Precision: 0.9885 - val_Recall: 0.9758 - val_loss: 0.0679\n",
      "Epoch 19/30\n",
      "\u001b[1m666/666\u001b[0m \u001b[32m━━━━━━━━━━━━━━━━━━━━\u001b[0m\u001b[37m\u001b[0m \u001b[1m2s\u001b[0m 3ms/step - Precision: 0.9487 - Recall: 0.9076 - loss: 0.4682 - val_Precision: 0.9898 - val_Recall: 0.9750 - val_loss: 0.0669\n",
      "Epoch 20/30\n",
      "\u001b[1m666/666\u001b[0m \u001b[32m━━━━━━━━━━━━━━━━━━━━\u001b[0m\u001b[37m\u001b[0m \u001b[1m2s\u001b[0m 3ms/step - Precision: 0.9580 - Recall: 0.9254 - loss: 0.4961 - val_Precision: 0.9855 - val_Recall: 0.9637 - val_loss: 0.0889\n",
      "Epoch 21/30\n",
      "\u001b[1m666/666\u001b[0m \u001b[32m━━━━━━━━━━━━━━━━━━━━\u001b[0m\u001b[37m\u001b[0m \u001b[1m3s\u001b[0m 4ms/step - Precision: 0.9492 - Recall: 0.9209 - loss: 0.5589 - val_Precision: 0.9902 - val_Recall: 0.9824 - val_loss: 0.0639\n",
      "Epoch 22/30\n",
      "\u001b[1m666/666\u001b[0m \u001b[32m━━━━━━━━━━━━━━━━━━━━\u001b[0m\u001b[37m\u001b[0m \u001b[1m3s\u001b[0m 4ms/step - Precision: 0.9614 - Recall: 0.9375 - loss: 0.3685 - val_Precision: 0.9846 - val_Recall: 0.9589 - val_loss: 0.0937\n",
      "Epoch 23/30\n",
      "\u001b[1m666/666\u001b[0m \u001b[32m━━━━━━━━━━━━━━━━━━━━\u001b[0m\u001b[37m\u001b[0m \u001b[1m3s\u001b[0m 5ms/step - Precision: 0.9536 - Recall: 0.9196 - loss: 0.4244 - val_Precision: 0.9709 - val_Recall: 0.9575 - val_loss: 0.1169\n",
      "Epoch 24/30\n",
      "\u001b[1m666/666\u001b[0m \u001b[32m━━━━━━━━━━━━━━━━━━━━\u001b[0m\u001b[37m\u001b[0m \u001b[1m2s\u001b[0m 3ms/step - Precision: 0.9577 - Recall: 0.9223 - loss: 0.4511 - val_Precision: 0.9922 - val_Recall: 0.9835 - val_loss: 0.0620\n",
      "Epoch 25/30\n",
      "\u001b[1m666/666\u001b[0m \u001b[32m━━━━━━━━━━━━━━━━━━━━\u001b[0m\u001b[37m\u001b[0m \u001b[1m2s\u001b[0m 3ms/step - Precision: 0.9669 - Recall: 0.9421 - loss: 0.3332 - val_Precision: 0.9891 - val_Recall: 0.9813 - val_loss: 0.0566\n",
      "Epoch 26/30\n",
      "\u001b[1m666/666\u001b[0m \u001b[32m━━━━━━━━━━━━━━━━━━━━\u001b[0m\u001b[37m\u001b[0m \u001b[1m2s\u001b[0m 3ms/step - Precision: 0.9635 - Recall: 0.9344 - loss: 0.3114 - val_Precision: 0.9903 - val_Recall: 0.9749 - val_loss: 0.0652\n",
      "Epoch 27/30\n",
      "\u001b[1m666/666\u001b[0m \u001b[32m━━━━━━━━━━━━━━━━━━━━\u001b[0m\u001b[37m\u001b[0m \u001b[1m2s\u001b[0m 3ms/step - Precision: 0.9696 - Recall: 0.9467 - loss: 0.3814 - val_Precision: 0.9863 - val_Recall: 0.9731 - val_loss: 0.0660\n",
      "Epoch 28/30\n",
      "\u001b[1m666/666\u001b[0m \u001b[32m━━━━━━━━━━━━━━━━━━━━\u001b[0m\u001b[37m\u001b[0m \u001b[1m3s\u001b[0m 5ms/step - Precision: 0.9544 - Recall: 0.9237 - loss: 0.5474 - val_Precision: 0.9912 - val_Recall: 0.9849 - val_loss: 0.0469\n",
      "Epoch 29/30\n",
      "\u001b[1m666/666\u001b[0m \u001b[32m━━━━━━━━━━━━━━━━━━━━\u001b[0m\u001b[37m\u001b[0m \u001b[1m2s\u001b[0m 4ms/step - Precision: 0.9646 - Recall: 0.9442 - loss: 0.3294 - val_Precision: 0.9910 - val_Recall: 0.9851 - val_loss: 0.0441\n",
      "Epoch 30/30\n",
      "\u001b[1m666/666\u001b[0m \u001b[32m━━━━━━━━━━━━━━━━━━━━\u001b[0m\u001b[37m\u001b[0m \u001b[1m2s\u001b[0m 4ms/step - Precision: 0.9685 - Recall: 0.9501 - loss: 0.3300 - val_Precision: 0.9902 - val_Recall: 0.9756 - val_loss: 0.0684\n"
     ]
    }
   ],
   "source": [
    "# Build multi-class ANN\n",
    "model_multi = Sequential([\n",
    "    Dense(128, activation='relu', input_shape=(X2_res.shape[1],)),\n",
    "    Dropout(0.3),\n",
    "    Dense(64, activation='relu'),\n",
    "    Dropout(0.3),\n",
    "    Dense(32, activation='relu'),\n",
    "    Dropout(0.3),\n",
    "    Dense(len(labels), activation='softmax')\n",
    "])\n",
    "model_multi.compile(\n",
    "    optimizer=Adam(learning_rate=0.001),\n",
    "    loss='categorical_crossentropy',\n",
    "    metrics=['Recall', 'Precision']\n",
    ")\n",
    "es2 = EarlyStopping(monitor='val_recall', patience=5, mode='max', restore_best_weights=True)\n",
    "history_multi = model_multi.fit(\n",
    "    X2_train_scaled, y2_res_cat,\n",
    "    validation_data=(X2_val_scaled, to_categorical(y2_val_idx, num_classes=len(labels))),\n",
    "    epochs=30, batch_size=512,\n",
    "    class_weight=cw_multi,\n",
    "    callbacks=[es2]\n",
    ")"
   ]
  },
  {
   "cell_type": "code",
   "execution_count": 24,
   "id": "b0e57945",
   "metadata": {},
   "outputs": [
    {
     "name": "stdout",
     "output_type": "stream",
     "text": [
      "[0.0129367271438241, 0.995233416557312, 0.9953736066818237]\n"
     ]
    }
   ],
   "source": [
    "print(model_multi.evaluate(X2_val_scaled, to_categorical(y2_val_idx, num_classes=len(labels)), verbose=0))"
   ]
  }
 ],
 "metadata": {
  "kernelspec": {
   "display_name": "Python 3",
   "language": "python",
   "name": "python3"
  },
  "language_info": {
   "codemirror_mode": {
    "name": "ipython",
    "version": 3
   },
   "file_extension": ".py",
   "mimetype": "text/x-python",
   "name": "python",
   "nbconvert_exporter": "python",
   "pygments_lexer": "ipython3",
   "version": "3.12.4"
  }
 },
 "nbformat": 4,
 "nbformat_minor": 5
}
